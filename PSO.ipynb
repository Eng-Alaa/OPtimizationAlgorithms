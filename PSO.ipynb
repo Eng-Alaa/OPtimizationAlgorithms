{
 "cells": [
  {
   "cell_type": "code",
   "execution_count": 1,
   "id": "ae20c5a2",
   "metadata": {},
   "outputs": [],
   "source": [
    "import numpy as np\n",
    "import matplotlib.pyplot as plt\n",
    "from matplotlib.animation import FuncAnimation"
   ]
  },
  {
   "cell_type": "code",
   "execution_count": 2,
   "id": "c95c609c",
   "metadata": {},
   "outputs": [],
   "source": [
    "def f(x,y):\n",
    "    \"Objective function\"\n",
    "    #return (x-3.14)*2 + (y-2.72)*2 + np.sin(3*x+1.41) + np.sin(4*y-1.73)\n",
    "    f1=x+2*-y+3\n",
    "    f2=2*x+y-8\n",
    "    z = f1**2+f2**2\n",
    "    return z"
   ]
  },
  {
   "cell_type": "code",
   "execution_count": 4,
   "id": "28a22045",
   "metadata": {},
   "outputs": [],
   "source": [
    "# Compute and plot the function in 3D within [0,5]x[0,5]\n",
    "x, y = np.array(np.meshgrid(np.linspace(0,5,100), np.linspace(0,5,100)))\n",
    "z = f(x, y)\n",
    " \n",
    "# Find the global minimum\n",
    "x_min = x.ravel()[z.argmin()]\n",
    "y_min = y.ravel()[z.argmin()]"
   ]
  },
  {
   "cell_type": "code",
   "execution_count": 5,
   "id": "7a5ee385",
   "metadata": {},
   "outputs": [],
   "source": [
    "# Hyper-parameter of the algorithm\n",
    "c1 = c2 = 0.1\n",
    "w = 0.8\n",
    "N_Iterations=100 \n",
    "GBest_convergence=np.zeros(N_Iterations+1)\n",
    "n_particles = 50"
   ]
  },
  {
   "cell_type": "code",
   "execution_count": 6,
   "id": "c9db55ff",
   "metadata": {},
   "outputs": [],
   "source": [
    "# Create particles\n",
    "np.random.seed(100)\n",
    "X = np.random.rand(2, n_particles) * 5 # initialize new positions\n",
    "V = np.random.randn(2, n_particles) * 0.1 # initialize new velocities"
   ]
  },
  {
   "cell_type": "code",
   "execution_count": 7,
   "id": "56f49ad8",
   "metadata": {},
   "outputs": [],
   "source": [
    "# Initialize data\n",
    "pbest = X # position\n",
    "pbest_obj = f(X[0], X[1]) # fitness/objective value\n",
    "gbest = pbest[:, pbest_obj.argmin()] # position\n",
    "gbest_obj = pbest_obj.min() # fitness/objective value\n",
    "GBest_convergence[0]=gbest_obj"
   ]
  },
  {
   "cell_type": "code",
   "execution_count": 8,
   "id": "20f41a02",
   "metadata": {},
   "outputs": [
    {
     "name": "stdout",
     "output_type": "stream",
     "text": [
      "The best solution is:0.44545688247947735\n",
      "The best solution is:0.275323901831266\n",
      "The best solution is:0.18709073028263992\n",
      "The best solution is:0.14714304934450284\n",
      "The best solution is:0.13479377262648232\n",
      "The best solution is:0.13479377262648232\n",
      "The best solution is:0.13479377262648232\n",
      "The best solution is:0.07614149354370482\n",
      "The best solution is:0.020004056275239122\n",
      "The best solution is:0.012796456045580757\n",
      "The best solution is:0.0036608136206168007\n",
      "The best solution is:0.0031282127189576716\n",
      "The best solution is:0.0031282127189576716\n",
      "The best solution is:0.0031282127189576716\n",
      "The best solution is:0.0010133062981043301\n",
      "The best solution is:0.0010133062981043301\n",
      "The best solution is:0.0010133062981043301\n",
      "The best solution is:0.0010133062981043301\n",
      "The best solution is:0.0010133062981043301\n",
      "The best solution is:0.0008466769623954983\n",
      "The best solution is:3.360640645487347e-05\n",
      "The best solution is:3.360640645487347e-05\n",
      "The best solution is:3.360640645487347e-05\n",
      "The best solution is:3.360640645487347e-05\n",
      "The best solution is:3.360640645487347e-05\n",
      "The best solution is:3.360640645487347e-05\n",
      "The best solution is:3.360640645487347e-05\n",
      "The best solution is:3.360640645487347e-05\n",
      "The best solution is:3.360640645487347e-05\n",
      "The best solution is:1.504650270045709e-05\n",
      "The best solution is:1.504650270045709e-05\n",
      "The best solution is:1.504650270045709e-05\n",
      "The best solution is:1.504650270045709e-05\n",
      "The best solution is:1.504650270045709e-05\n",
      "The best solution is:1.504650270045709e-05\n",
      "The best solution is:1.504650270045709e-05\n",
      "The best solution is:1.504650270045709e-05\n",
      "The best solution is:1.1393938652129043e-05\n",
      "The best solution is:1.0524268201841694e-05\n",
      "The best solution is:1.0524268201841694e-05\n",
      "The best solution is:1.0524268201841694e-05\n",
      "The best solution is:1.0524268201841694e-05\n",
      "The best solution is:1.2750281305753698e-06\n",
      "The best solution is:1.2750281305753698e-06\n",
      "The best solution is:1.2750281305753698e-06\n",
      "The best solution is:1.2750281305753698e-06\n",
      "The best solution is:1.2750281305753698e-06\n",
      "The best solution is:1.2750281305753698e-06\n",
      "The best solution is:1.2363827198359474e-06\n",
      "The best solution is:5.172760697230155e-07\n",
      "The best solution is:1.0780374497512387e-07\n",
      "The best solution is:1.0780374497512387e-07\n",
      "The best solution is:8.482871229850475e-08\n",
      "The best solution is:8.482871229850475e-08\n",
      "The best solution is:8.482871229850475e-08\n",
      "The best solution is:8.482871229850475e-08\n",
      "The best solution is:8.482871229850475e-08\n",
      "The best solution is:8.482871229850475e-08\n",
      "The best solution is:8.482871229850475e-08\n",
      "The best solution is:8.482871229850475e-08\n",
      "The best solution is:7.882197272790841e-08\n",
      "The best solution is:6.62310812833695e-08\n",
      "The best solution is:4.614957692238208e-08\n",
      "The best solution is:4.472865087576878e-08\n",
      "The best solution is:1.3535829532781282e-08\n",
      "The best solution is:1.3535829532781282e-08\n",
      "The best solution is:1.3535829532781282e-08\n",
      "The best solution is:1.3535829532781282e-08\n",
      "The best solution is:9.785118159305605e-09\n",
      "The best solution is:6.3518728955207165e-09\n",
      "The best solution is:1.6962896640317865e-09\n",
      "The best solution is:6.572577691672123e-12\n",
      "The best solution is:6.572577691672123e-12\n",
      "The best solution is:6.572577691672123e-12\n",
      "The best solution is:6.572577691672123e-12\n",
      "The best solution is:6.572577691672123e-12\n",
      "The best solution is:6.572577691672123e-12\n",
      "The best solution is:6.572577691672123e-12\n",
      "The best solution is:6.572577691672123e-12\n",
      "The best solution is:6.572577691672123e-12\n",
      "The best solution is:6.572577691672123e-12\n",
      "The best solution is:6.572577691672123e-12\n",
      "The best solution is:6.572577691672123e-12\n",
      "The best solution is:3.063638804811775e-12\n",
      "The best solution is:3.063638804811775e-12\n",
      "The best solution is:3.063638804811775e-12\n",
      "The best solution is:3.063638804811775e-12\n",
      "The best solution is:3.063638804811775e-12\n",
      "The best solution is:3.063638804811775e-12\n",
      "The best solution is:3.063638804811775e-12\n",
      "The best solution is:3.063638804811775e-12\n",
      "The best solution is:3.100555932695225e-13\n",
      "The best solution is:3.100555932695225e-13\n",
      "The best solution is:3.100555932695225e-13\n",
      "The best solution is:3.100555932695225e-13\n",
      "The best solution is:3.100555932695225e-13\n",
      "The best solution is:3.100555932695225e-13\n",
      "The best solution is:3.100555932695225e-13\n",
      "The best solution is:1.5720167563057614e-13\n",
      "The best solution is:1.5720167563057614e-13\n"
     ]
    }
   ],
   "source": [
    "for iter in range(N_Iterations): \n",
    "    r1, r2 = np.random.rand(2)\n",
    "    V = w * V + c1*r1*(pbest - X) + c2*r2*(gbest.reshape(-1,1)-X)\n",
    "    X = X + V # to generate new positions\n",
    "    obj = f(X[0], X[1])\n",
    "    pbest[:, (pbest_obj >= obj)] = X[:, (pbest_obj >= obj)]\n",
    "    pbest_obj = np.array([pbest_obj, obj]).min(axis=0)\n",
    "    gbest = pbest[:, pbest_obj.argmin()]\n",
    "    gbest_obj = pbest_obj.min()\n",
    "    GBest_convergence[iter+1]=gbest_obj\n",
    "    print('The best solution is:' + str(gbest_obj))"
   ]
  },
  {
   "cell_type": "code",
   "execution_count": 9,
   "id": "188e9eef",
   "metadata": {},
   "outputs": [
    {
     "name": "stdout",
     "output_type": "stream",
     "text": [
      "PSO found best solution at f([2.59999984 2.80000007])=1.5720167563057614e-13\n",
      "Global optimal at f([2.5757575757575757, 2.7777777777777777])=0.005407611468217568\n"
     ]
    },
    {
     "data": {
      "image/png": "[encoded data removed]",
      "text/plain": [
       "<Figure size 640x480 with 1 Axes>"
      ]
     },
     "metadata": {},
     "output_type": "display_data"
    }
   ],
   "source": [
    "# Show results\n",
    "print(\"PSO found best solution at f({})={}\".format(gbest, gbest_obj))\n",
    "print(\"Global optimal at f({})={}\".format([x_min,y_min], f(x_min,y_min)))\n",
    "\n",
    "# Plotting the convergence Graph\n",
    "idx=[i for i in range(N_Iterations+1)]\n",
    "plt.plot(idx, GBest_convergence)\n",
    "plt.title(\"Covergence curve of PSO\")\n",
    "plt.xlabel(\"No. iterations\")\n",
    "plt.ylabel(\"Best solution\")\n",
    "plt.show()"
   ]
  },
  {
   "cell_type": "code",
   "execution_count": null,
   "id": "9a8bb83e",
   "metadata": {},
   "outputs": [],
   "source": []
  }
 ],
 "metadata": {
  "kernelspec": {
   "display_name": "Python 3 (ipykernel)",
   "language": "python",
   "name": "python3"
  },
  "language_info": {
   "codemirror_mode": {
    "name": "ipython",
    "version": 3
   },
   "file_extension": ".py",
   "mimetype": "text/x-python",
   "name": "python",
   "nbconvert_exporter": "python",
   "pygments_lexer": "ipython3",
   "version": "3.9.13"
  }
 },
 "nbformat": 4,
 "nbformat_minor": 5
}
